import numpy as np
from scipy.integrate import solve_ivp
import matplotlib.pyplot as plt

# Parametry pocisku
m = 0.004  # masa pocisku w gramach
d = 0.00556  # średnica w metrach
A = np.pi * (d / 2) ** 2  # pole powierzchni czołowej
Cd = 0.295   # współczynnik oporu
rho0 = 1.225  # gęstość powietrza na poziomie morza (kg/m^3)
H = 8500  # wysokość skali atmosferycznej w metrach
g = 9.81  # przyspieszenie ziemskie (m/s^2)
v0 = 890  # prędkość początkowa w m/s (dla Grot)

# Funkcja gęstości powietrza w zależności od wysokości
def rho(h):
    return rho0 * np.exp(-h / H)

# Układ równań różniczkowych
def vertical_motion_with_variable_drag(t, y):
    v, h = y
    if h < 0:
        return [0, 0]
    air_density = rho(h)
    drag_force = 0.5 * air_density * Cd * A * v**2 * np.sign(v)
    dvdt = -g - drag_force / m
    dhdt = v
    return [dvdt, dhdt]

# Warunki początkowe
y0 = [v0, 0.001]

# Rozwiązanie równania
t_span = (0, 45)
t_eval = np.linspace(t_span[0], t_span[1], 1000)
sol_up = solve_ivp(vertical_motion_with_variable_drag, t_span, y0, t_eval=t_eval, rtol=1e-8)

# Maksymalna wysokość
max_height = max(sol_up.y[1])
time_to_max_height = sol_up.t[np.argmax(sol_up.y[1])]

# Zatrzymanie przy osiągnięciu ziemi (h=0)
ground_idx = np.where(sol_up.y[1] <= 0)[0]
if len(ground_idx) > 0:
    last_index = ground_idx[0]
else:
    last_index = -1  # do końca

# Wykres
plt.figure(figsize=(10, 5))
plt.plot(sol_up.t[:last_index], sol_up.y[1][:last_index],color='mediumturquoise')
plt.xlabel("Czas (s)")
plt.ylabel("Wysokość pocisku (m)")
plt.title("Wznoszenie i opadanie pocisku z karabinka GROT z uwzględnieniem oporu powietrza i zmiennej gęstości", fontsize=12)

# Legenda na wykresie
plt.annotate('Szczyt lotu:\nenergia kinetyczna: 0 J',
             xy=(time_to_max_height, max_height-10),                 # punkt na wykresie
             xytext=(time_to_max_height + 0, max_height - 300),  # pozycja tekstu
             arrowprops=dict(arrowstyle='->', color='black'),
             bbox=dict(boxstyle='round,pad=0.2', fc='lightyellow', ec='gray', lw=1),
             fontsize=10)

plt.annotate('Start lotu:\nenergia kinetyczna: 1600 J',
             xy=(0, 0),                 # punkt na wykresie
             xytext=(0,200),  # pozycja tekstu
             arrowprops=dict(arrowstyle='->', color='black'),
             bbox=dict(boxstyle='round,pad=0.2', fc='lightyellow', ec='gray', lw=1),
             fontsize=10)

plt.annotate('Koniec lotu,:\nenergia kinetyczna: 18,5 J',
             xy=(44.3, 0),                 # punkt na wykresie
             xytext=(38 + 0, 500),  # pozycja tekstu
             arrowprops=dict(arrowstyle='->', color='black'),
             bbox=dict(boxstyle='round,pad=0.2', fc='lightyellow', ec='gray', lw=1),
             fontsize=10)

plt.show()
